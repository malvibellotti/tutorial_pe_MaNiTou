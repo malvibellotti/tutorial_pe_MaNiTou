{
  "nbformat": 4,
  "nbformat_minor": 0,
  "metadata": {
    "colab": {
      "provenance": [],
      "authorship_tag": "ABX9TyOgNueVhjWcvUzXA1NMgdKc",
      "include_colab_link": true
    },
    "kernelspec": {
      "name": "python3",
      "display_name": "Python 3"
    },
    "language_info": {
      "name": "python"
    }
  },
  "cells": [
    {
      "cell_type": "markdown",
      "metadata": {
        "id": "view-in-github",
        "colab_type": "text"
      },
      "source": [
        "<a href=\"https://colab.research.google.com/github/NataliaKor/tutorial/blob/main/LISAsprint_network.ipynb\" target=\"_parent\"><img src=\"https://colab.research.google.com/assets/colab-badge.svg\" alt=\"Open In Colab\"/></a>"
      ]
    },
    {
      "cell_type": "code",
      "source": [
        "from google.colab import drive\n",
        "drive.mount('/content/drive', force_remount=True)"
      ],
      "metadata": {
        "colab": {
          "base_uri": "https://localhost:8080/"
        },
        "id": "iDoC1kpBVBJ7",
        "outputId": "27ab9b77-5505-4af0-bf6b-dcb9af4136d5"
      },
      "execution_count": 1,
      "outputs": [
        {
          "output_type": "stream",
          "name": "stdout",
          "text": [
            "Mounted at /content/drive\n"
          ]
        }
      ]
    },
    {
      "cell_type": "code",
      "source": [
        "!git clone https://github.com/nbia-gwastro/binlite.git"
      ],
      "metadata": {
        "colab": {
          "base_uri": "https://localhost:8080/"
        },
        "id": "59veebQbVXmt",
        "outputId": "fc9501fe-583c-46ef-b145-e9e31878af48"
      },
      "execution_count": 2,
      "outputs": [
        {
          "output_type": "stream",
          "name": "stdout",
          "text": [
            "Cloning into 'binlite'...\n",
            "remote: Enumerating objects: 152, done.\u001b[K\n",
            "remote: Counting objects: 100% (152/152), done.\u001b[K\n",
            "remote: Compressing objects: 100% (105/105), done.\u001b[K\n",
            "remote: Total 152 (delta 81), reused 115 (delta 44), pack-reused 0 (from 0)\u001b[K\n",
            "Receiving objects: 100% (152/152), 6.63 MiB | 10.69 MiB/s, done.\n",
            "Resolving deltas: 100% (81/81), done.\n"
          ]
        }
      ]
    },
    {
      "cell_type": "code",
      "source": [
        "%cd binlite"
      ],
      "metadata": {
        "colab": {
          "base_uri": "https://localhost:8080/"
        },
        "id": "RWGU7wNDVbFN",
        "outputId": "b51ee41a-d68d-4a8d-b7e8-d2ad52804ab7"
      },
      "execution_count": 3,
      "outputs": [
        {
          "output_type": "stream",
          "name": "stdout",
          "text": [
            "/content/binlite\n"
          ]
        }
      ]
    },
    {
      "cell_type": "code",
      "source": [
        "# Imports\n",
        "import matplotlib\n",
        "import matplotlib.pyplot as plt\n",
        "import matplotlib.pylab as pylab\n",
        "from matplotlib.colors import Colormap\n",
        "from matplotlib.ticker import FormatStrFormatter, NullFormatter, MultipleLocator, MaxNLocator,ScalarFormatter\n",
        "\n",
        "import numpy as np\n",
        "\n",
        "import astropy.constants as consts\n",
        "import astropy.units as u\n",
        "#import scipy.constants as consts\n",
        "import random\n",
        "\n",
        "from binlite import AccretionSeries, BinaryAlphaDisk\n",
        "from binlite.flux import periodic_flux_series, normalized_flux_series, time_from_bad, normalized_flux_series_from_bad\n"
      ],
      "metadata": {
        "id": "aYZdsXglVpI5"
      },
      "execution_count": 5,
      "outputs": []
    },
    {
      "cell_type": "code",
      "source": [
        "# Make the code hardware agnostic.\n",
        "import torch\n",
        "from torch.utils.data import Dataset, DataLoader, random_split\n",
        "from torch import nn\n",
        "from torch import distributions\n",
        "\n",
        "# Making code agnostic to CPU/GPU\n",
        "def std_get_wrapper(arg):\n",
        "    return arg\n",
        "\n",
        "def cuda_get_wrapper(arg):\n",
        "    return arg.get()\n",
        "\n",
        "if torch.cuda.is_available():\n",
        "   import cupy as cp\n",
        "   gpu = True\n",
        "   get_wrapper = cuda_get_wrapper\n",
        "   dev = \"cuda:0\"\n",
        "   dtype = torch.cuda.FloatTensor\n",
        "else:\n",
        "   import numpy as cp\n",
        "   gpu = False\n",
        "   get_wrapper = std_get_wrapper\n",
        "   dev = \"cpu\"\n",
        "   dtype = torch.FloatTensor\n",
        "\n",
        "print(gpu)"
      ],
      "metadata": {
        "colab": {
          "base_uri": "https://localhost:8080/"
        },
        "id": "X3EkW68BhJjV",
        "outputId": "75652ed5-e295-465d-d6c8-0892f5548cb4"
      },
      "execution_count": 6,
      "outputs": [
        {
          "output_type": "stream",
          "name": "stdout",
          "text": [
            "False\n"
          ]
        }
      ]
    },
    {
      "cell_type": "markdown",
      "source": [
        "# Prepare training and validation data"
      ],
      "metadata": {
        "id": "9xpEQuDKVeSE"
      }
    },
    {
      "cell_type": "code",
      "source": [
        "################################################################################\n",
        "# Code from Scott\n",
        "################################################################################\n",
        "\n",
        "# It seems binlite uses 1000 points per orbit.\n",
        "\n",
        "# these parameters does not matter when we normalize the flux;\n",
        "fedd = 0.1\n",
        "dl_pc = 1.5 * 1e9   #\n",
        "obs_nu = 2.4e17     # 1 keV  in Hz\n",
        "\n",
        "#n_lcurves = int(1e4)\n",
        "n_lcurves = int(2000)   # number of light curves\n",
        "\n",
        "t_lisa = 10.*u.yr                  # full science period of LISA\n",
        "#t_em_obs = 1.e6*u.s  # length of observation\n",
        "t_em_obs = 80.e3*u.s  # length of observation\n",
        "t_cadence = 1.e2*u.s  # spacing between data points\n",
        "n_times = int( t_em_obs / t_cadence )\n",
        "\n",
        "min_sep = 20.    # minimum separatin in r_g to consider\n",
        "max_sep = 2000.  # minimum separatin in r_g to consider\n",
        "\n",
        "lightcurves = np.ndarray((n_lcurves, n_times))\n",
        "\n",
        "GMc2 = consts.GM_sun.cgs / consts.c.cgs**2\n",
        "\n",
        "m_msun_pow = np.random.uniform(5.,7.,n_lcurves)\n",
        "m_msuns = 10.**m_msun_pow\n",
        "#sampling_parameters = m_msuns\n",
        "r_g = m_msuns * GMc2\n",
        "\n",
        "#obs_nu = vband_nu\n",
        "\n",
        "freq_range = [1e-4,1e-1]/u.s\n",
        "sep_min = (np.pi * freq_range[1] / (np.sqrt(consts.GM_sun.cgs * m_msuns)) )**(-2./3.)\n",
        "sep_max = (np.pi * freq_range[0] / (np.sqrt(consts.GM_sun.cgs * m_msuns)) )**(-2./3.)\n",
        "loc = (sep_min/r_g < min_sep)\n",
        "sep_min[loc] = min_sep*r_g[loc]\n",
        "loc = (sep_max/r_g > max_sep)\n",
        "sep_max[loc] = max_sep*r_g[loc]\n",
        "\n",
        "nbad = np.sum( sep_min > sep_max )\n",
        "\n",
        "separation_pow = random.uniform(np.log10(sep_min[:]/r_g[:]),np.log10(sep_max[:]/r_g[:]))\n",
        "separation = (10.**separation_pow) * r_g\n",
        "period = (2.*np.pi*separation.cgs*np.sqrt(separation.cgs / (consts.GM_sun.cgs*m_msuns)))\n",
        "sampling_parameters = period\n",
        "print(f\"period = {period}\")\n",
        "print(f\"t_em_obs = {t_em_obs}\")\n",
        "freq = 1./period\n",
        "p_yrs = (period / u.yr).cgs\n",
        "n_orbits = ( (t_em_obs / period).cgs ).astype(int) + 1     # binlite requires an integer\n",
        "\n",
        "eccs = np.random.uniform(0.0,0.8,n_lcurves)\n",
        "\n",
        "print(f\"n_orbits = {n_orbits}\")\n",
        "print(f\"eccs     = {eccs}\")\n",
        "print(f\"m_msuns  = {m_msuns}\")\n",
        "print(f\"p_yrs    = {p_yrs}\")"
      ],
      "metadata": {
        "colab": {
          "base_uri": "https://localhost:8080/"
        },
        "id": "VI4FtzqoVcLB",
        "outputId": "995f9db2-52ef-43b9-df39-3d216f0a81e9"
      },
      "execution_count": 221,
      "outputs": [
        {
          "output_type": "stream",
          "name": "stdout",
          "text": [
            "period = [23006.23837839  6674.28209124  6693.79888293 ...  1652.40916023\n",
            " 17576.53340739 15846.42498522] s\n",
            "t_em_obs = 80000.0 s\n",
            "n_orbits = [ 4 12 12 ... 49  5  6]\n",
            "eccs     = [0.33007319 0.37766685 0.77013918 ... 0.30207852 0.7430171  0.45758621]\n",
            "m_msuns  = [8366547.7582277  2289273.30091714 2296284.49985739 ...  530576.95826147\n",
            " 6311126.058541   5662098.99613431]\n",
            "p_yrs    = [7.29023702e-04 2.11495237e-04 2.12113687e-04 ... 5.23616866e-05\n",
            " 5.56966734e-04 5.02142906e-04]\n"
          ]
        }
      ]
    },
    {
      "cell_type": "code",
      "source": [
        "for ecc, n_orb, m_msun, p_yr, ind in zip(eccs,n_orbits,m_msuns,p_yrs,np.arange(len(eccs),dtype=int)) :\n",
        "    if ind % 100 == 0:\n",
        "      print('ind : {:d}'.format(ind))\n",
        "    #print('ecc : {:.2f}'.format(ecc))\n",
        "    acc = AccretionSeries(ecc, n_modes=29, n_orbits=n_orb, retrograde=False)\n",
        "    bad = BinaryAlphaDisk(ecc, p_yr, m_msun, dl_pc, eddington_ratio=fedd, retrograde=acc.is_retro)\n",
        "    yrs = time_from_bad(acc, bad)\n",
        "    flux = normalized_flux_series_from_bad(obs_nu, acc, bad)\n",
        "    rednoise = 1.\n",
        "    obsflux = flux * rednoise\n",
        "    lightcurves[ind,:] = obsflux[0:n_times]"
      ],
      "metadata": {
        "colab": {
          "base_uri": "https://localhost:8080/"
        },
        "id": "QWSwrRePd8Dr",
        "outputId": "f7f05a68-7b07-4c05-9863-c2e9ed21f9f4"
      },
      "execution_count": 222,
      "outputs": [
        {
          "output_type": "stream",
          "name": "stdout",
          "text": [
            "ind : 0\n"
          ]
        },
        {
          "output_type": "stream",
          "name": "stderr",
          "text": [
            "/content/binlite/binlite/flux.py:242: RuntimeWarning: overflow encountered in exp\n",
            "  return 2. * hp_cgs * nu**3 / c_cgs**2 / (np.exp(exarg) - 1.0)\n"
          ]
        },
        {
          "output_type": "stream",
          "name": "stdout",
          "text": [
            "ind : 100\n",
            "ind : 200\n",
            "ind : 300\n",
            "ind : 400\n",
            "ind : 500\n",
            "ind : 600\n",
            "ind : 700\n",
            "ind : 800\n",
            "ind : 900\n",
            "ind : 1000\n",
            "ind : 1100\n",
            "ind : 1200\n",
            "ind : 1300\n",
            "ind : 1400\n",
            "ind : 1500\n",
            "ind : 1600\n",
            "ind : 1700\n",
            "ind : 1800\n",
            "ind : 1900\n"
          ]
        }
      ]
    },
    {
      "cell_type": "code",
      "source": [
        "print(lightcurves.shape)"
      ],
      "metadata": {
        "colab": {
          "base_uri": "https://localhost:8080/"
        },
        "id": "PRdokiQzl2iR",
        "outputId": "39333d75-9d91-4de1-c9dd-7a427469973c"
      },
      "execution_count": 223,
      "outputs": [
        {
          "output_type": "stream",
          "name": "stdout",
          "text": [
            "(2000, 800)\n"
          ]
        }
      ]
    },
    {
      "cell_type": "code",
      "source": [
        "fig, [ax1, ax2] = plt.subplots(2, 1, sharex=True, figsize=[8, 6])\n",
        "plt.subplots_adjust(hspace=0.05)\n",
        "ax1.plot(yrs, flux, 'C0-')\n",
        "ax2.plot(yrs, obsflux, 'k--')\n",
        "#ax2.set_xlim([0.0, yrs[-1]])\n",
        "#ax2.set_ylim([15.8, 14.2])\n",
        "ax1.set_ylabel(r'$F_v$')\n",
        "ax2.set_ylabel(r'$m_v$')\n",
        "ax2.set_xlabel('years')\n",
        "ax1.set_title(r'e = {:.2f}'.format(acc.ecc))\n",
        "plt.show()\n",
        "plt.close()\n",
        "print(flux)"
      ],
      "metadata": {
        "colab": {
          "base_uri": "https://localhost:8080/",
          "height": 582
        },
        "id": "V5dGdsqafPn-",
        "outputId": "9df1a549-a836-4274-ba31-7aa2b2fed28c"
      },
      "execution_count": 225,
      "outputs": [
        {
          "output_type": "display_data",
          "data": {
            "text/plain": [
              "<Figure size 800x600 with 2 Axes>"
            ],
            "image/png": "[encoded data removed]"
          },
          "metadata": {}
        },
        {
          "output_type": "stream",
          "name": "stdout",
          "text": [
            "[1.36907291 1.36476413 1.36039164 ... 1.37750462 1.37331904 1.36907291]\n"
          ]
        }
      ]
    },
    {
      "cell_type": "code",
      "source": [
        "np.save('/content/drive/MyDrive/lightcurves.npy', lightcurves)"
      ],
      "metadata": {
        "id": "TrlgLHb9isTo"
      },
      "execution_count": 26,
      "outputs": []
    },
    {
      "cell_type": "code",
      "source": [
        "!ls"
      ],
      "metadata": {
        "colab": {
          "base_uri": "https://localhost:8080/"
        },
        "id": "lLmtDr8QmO9J",
        "outputId": "ebb41abc-e7db-4397-f9d4-3d18ef6d0a1a"
      },
      "execution_count": 24,
      "outputs": [
        {
          "output_type": "stream",
          "name": "stdout",
          "text": [
            "binlite  LICENSE.md  lightcurves.npy  MANIFEST.in  README.md  setup.py\n"
          ]
        }
      ]
    },
    {
      "cell_type": "code",
      "source": [
        "print(sampling_parameters.shape)\n",
        "np.save('/content/drive/MyDrive/sampling_parameters.npy', sampling_parameters)"
      ],
      "metadata": {
        "colab": {
          "base_uri": "https://localhost:8080/"
        },
        "id": "1u93y6OamjC-",
        "outputId": "26a73bd8-a96e-46bb-8044-0fe301e404e4"
      },
      "execution_count": 27,
      "outputs": [
        {
          "output_type": "stream",
          "name": "stdout",
          "text": [
            "(2000,)\n"
          ]
        }
      ]
    },
    {
      "cell_type": "code",
      "source": [
        "# Package data to the Dataset\n",
        "\n",
        "# For best training, parameters should be standardized (zero mean, unit variance across the training set).\n",
        "\n",
        "parameters_mean = np.mean(sampling_parameters, axis=0)\n",
        "parameters_std = np.std(sampling_parameters, axis=0)\n",
        "\n",
        "parameters_standardized = (sampling_parameters - parameters_mean) / parameters_std\n",
        "parameters_standardized = parameters_standardized.astype(np.float32)\n",
        "print(parameters_standardized)\n",
        "\n",
        "\n",
        "# Prepare the (complex) frequency-domain data for the (real) neural network. To do so we simply concatenate the real and imaginary parts into an array of doubled length.\n",
        "\n",
        "lc_min = np.min(lightcurves, axis = 0)\n",
        "lc_max = np.max(lightcurves, axis = 0)\n",
        "print(lc_min.shape)\n",
        "\n",
        "lc = 2*(lightcurves - lc_min)/(lc_max - lc_min) - 1.\n",
        "print(lc.shape)\n",
        "\n",
        "waveforms = np.expand_dims(lc, axis=1)\n",
        "#waveforms = np.expand_dims(waveforms, axis=3)\n",
        "\n",
        "\n",
        "print(waveforms.shape)\n",
        "print(waveforms)\n",
        "\n",
        "\n",
        "class WaveformDataset(Dataset):\n",
        "\n",
        "    def __init__(self, parameters, waveforms):\n",
        "        self.parameters = parameters\n",
        "        self.waveforms = waveforms\n",
        "\n",
        "    def __len__(self):\n",
        "        return len(self.parameters)\n",
        "\n",
        "    def __getitem__(self, idx):\n",
        "        params = self.parameters[idx]\n",
        "        signal = self.waveforms[idx]\n",
        "\n",
        "        # Add unit normal noise to the signal\n",
        "        # noise = cp.random.normal(size = signal.shape).astype(cp.float32)\n",
        "        data = signal\n",
        "\n",
        "        return torch.tensor(data).type(dtype), torch.tensor(params).type(dtype)\n",
        "\n"
      ],
      "metadata": {
        "colab": {
          "base_uri": "https://localhost:8080/"
        },
        "id": "OqLDsEa4jPXI",
        "outputId": "f54a4ff5-2651-4d24-e7c7-7d4b0a6b2313"
      },
      "execution_count": 251,
      "outputs": [
        {
          "output_type": "stream",
          "name": "stdout",
          "text": [
            "[ 2.4588945   0.07989837  0.08274129 ... -0.6516133   1.667976\n",
            "  1.4159596 ]\n",
            "(800,)\n",
            "(2000, 800)\n",
            "(2000, 1, 800)\n",
            "[[[-0.91166352 -0.91120851 -0.91086301 ... -0.86515538 -0.86879686\n",
            "   -0.87267703]]\n",
            "\n",
            " [[ 0.30459669  0.30284026  0.30132996 ... -0.22476584 -0.21942572\n",
            "   -0.21500452]]\n",
            "\n",
            " [[-0.69833465 -0.68946952 -0.68119226 ... -0.91797083 -0.92177205\n",
            "   -0.92576587]]\n",
            "\n",
            " ...\n",
            "\n",
            " [[-0.88609982 -0.88550674 -0.88504026 ... -0.83951061 -0.84313831\n",
            "   -0.84703581]]\n",
            "\n",
            " [[-0.43428714 -0.43124296 -0.42940918 ... -0.9022733  -0.90594731\n",
            "   -0.90975996]]\n",
            "\n",
            " [[ 0.21305192  0.20979814  0.20668226 ...  0.78594502  0.78671296\n",
            "    0.7850399 ]]]\n"
          ]
        }
      ]
    },
    {
      "cell_type": "code",
      "source": [
        "# Define network\n",
        "\n",
        "model = torch.nn.Sequential(\n",
        "          nn.Conv1d(1,8,10,padding=\"same\"), # [input channels, number of filters, filter size]\n",
        "          nn.BatchNorm1d(8),\n",
        "          nn.Tanh(),\n",
        "          nn.MaxPool1d(2),\n",
        "          nn.Conv1d(8,16,8,padding=\"same\"),\n",
        "          nn.Tanh(),\n",
        "          nn.MaxPool1d(2),\n",
        "          #nn.Conv1d(16,8,8,padding=\"same\"),\n",
        "          #nn.Tanh(),\n",
        "          #nn.MaxPool1d(2),\n",
        "          nn.Flatten(),\n",
        "          nn.LazyLinear(128), # LazyLinear automatically computes the input size from flattened convolutions\n",
        "          nn.Sigmoid(),\n",
        "          nn.LazyLinear(64),\n",
        "          nn.Sigmoid(),\n",
        "          nn.LazyLinear(1)\n",
        "        ).to(dev)\n",
        "\n",
        ""
      ],
      "metadata": {
        "id": "HXUgSUDUjv5_"
      },
      "execution_count": 252,
      "outputs": []
    },
    {
      "cell_type": "code",
      "source": [
        "waveform_dataset = WaveformDataset(parameters_standardized, waveforms)"
      ],
      "metadata": {
        "id": "JBOn7bsMm6eR"
      },
      "execution_count": 253,
      "outputs": []
    },
    {
      "cell_type": "code",
      "source": [
        "# Split the dataset into training and test sets. We use the test set to make sure the network properly generalizes to data that it has not seen in training, i.e., it does not overfit.\n",
        "num_samples = n_lcurves\n",
        "train_fraction = 0.8\n",
        "num_train = int(round(train_fraction * num_samples))\n",
        "num_test = num_samples - num_train\n",
        "train_dataset, test_dataset = random_split(waveform_dataset, [num_train, num_test])\n",
        "\n",
        "# The DataLoader is used in training.\n",
        "\n",
        "train_dataloader = DataLoader(train_dataset, batch_size=128, shuffle=True) # batch_size=256\n",
        "test_dataloader = DataLoader(test_dataset, batch_size=128, shuffle=False)\n",
        ""
      ],
      "metadata": {
        "id": "ucMs3Brzj8Lz"
      },
      "execution_count": 254,
      "outputs": []
    },
    {
      "cell_type": "code",
      "source": [
        "# The DataLoaders iterate over samples, returning torch tensors containing a batch of data.\n",
        "\n",
        "train_features, train_labels = next(iter(train_dataloader))"
      ],
      "metadata": {
        "id": "lSTGVuPxkClu"
      },
      "execution_count": 255,
      "outputs": []
    },
    {
      "cell_type": "code",
      "source": [
        "# We use the Adam optimizer.\n",
        "\n",
        "optimizer = torch.optim.Adam([p for p in model.parameters() if p.requires_grad==True], lr=5e-4)"
      ],
      "metadata": {
        "id": "-NtfBzOnkEtj"
      },
      "execution_count": 256,
      "outputs": []
    },
    {
      "cell_type": "markdown",
      "source": [],
      "metadata": {
        "id": "NdwJ2vExDNxT"
      }
    },
    {
      "cell_type": "code",
      "source": [
        "# We use Meas Square Error.\n",
        "loss_func = torch.nn.MSELoss()\n",
        ""
      ],
      "metadata": {
        "id": "aHZiS-Q2kGjy"
      },
      "execution_count": 257,
      "outputs": []
    },
    {
      "cell_type": "code",
      "source": [
        "# Training and test loops.\n",
        "\n",
        "def train_loop(dataloader, model, optimizer):\n",
        "\n",
        "    size = len(dataloader.dataset)\n",
        "    train_loss = 0\n",
        "\n",
        "    for batch, (X, y) in enumerate(dataloader):\n",
        "        outputs = model(X)\n",
        "        loss = loss_func(outputs, y)\n",
        "\n",
        "        train_loss += loss.detach().sum()\n",
        "        loss = loss.mean()\n",
        "\n",
        "        # Backpropagation\n",
        "        optimizer.zero_grad()\n",
        "        loss.backward()\n",
        "        optimizer.step()\n",
        "\n",
        "        if batch % 20 == 0:\n",
        "            loss, current = loss.item(), batch * len(X)\n",
        "            print(f\"Loss: {loss:>7f}  [{current:>5d}/{size:>5d} samples]\")\n",
        "\n",
        "    average_loss = train_loss.item() / size\n",
        "    print('Average loss: {:.4f}'.format(average_loss))\n",
        "    return average_loss\n"
      ],
      "metadata": {
        "id": "0XGOWnhJkIdY"
      },
      "execution_count": 258,
      "outputs": []
    },
    {
      "cell_type": "code",
      "source": [
        "def test_loop(dataloader, model):\n",
        "    size = len(dataloader.dataset)\n",
        "    test_loss = 0\n",
        "\n",
        "    with torch.no_grad():\n",
        "        for X, y in dataloader:\n",
        "            outputs = model(X)\n",
        "            loss = loss_func(outputs, y)\n",
        "            test_loss += loss.sum()\n",
        "\n",
        "    test_loss /= size\n",
        "    print(f\"Test loss: {test_loss:>8f} \\n\")\n",
        "    return test_loss\n",
        "\n"
      ],
      "metadata": {
        "id": "jx4FGVMjkMCW"
      },
      "execution_count": 259,
      "outputs": []
    },
    {
      "cell_type": "code",
      "source": [
        "\n",
        "epochs = 30\n",
        "train_history = []\n",
        "test_history = []\n",
        "for t in range(epochs):\n",
        "    print(f\"Epoch {t+1}\\n-------------------------------\")\n",
        "    loss = train_loop(train_dataloader, model, optimizer)\n",
        "    train_history.append(loss)\n",
        "    loss = test_loop(test_dataloader, model)\n",
        "    test_history.append(loss.cpu())\n",
        "print(\"Done!\")"
      ],
      "metadata": {
        "colab": {
          "base_uri": "https://localhost:8080/"
        },
        "id": "WxUlzi0EkO7H",
        "outputId": "2780f6b8-3144-4f9b-bab6-b2aa906ba285"
      },
      "execution_count": 260,
      "outputs": [
        {
          "output_type": "stream",
          "name": "stdout",
          "text": [
            "Epoch 1\n",
            "-------------------------------\n",
            "Loss: 1.132559  [    0/ 1600 samples]\n"
          ]
        },
        {
          "output_type": "stream",
          "name": "stderr",
          "text": [
            "/usr/local/lib/python3.11/dist-packages/torch/nn/modules/loss.py:610: UserWarning: Using a target size (torch.Size([128])) that is different to the input size (torch.Size([128, 1])). This will likely lead to incorrect results due to broadcasting. Please ensure they have the same size.\n",
            "  return F.mse_loss(input, target, reduction=self.reduction)\n",
            "/usr/local/lib/python3.11/dist-packages/torch/nn/modules/loss.py:610: UserWarning: Using a target size (torch.Size([64])) that is different to the input size (torch.Size([64, 1])). This will likely lead to incorrect results due to broadcasting. Please ensure they have the same size.\n",
            "  return F.mse_loss(input, target, reduction=self.reduction)\n",
            "/usr/local/lib/python3.11/dist-packages/torch/nn/modules/loss.py:610: UserWarning: Using a target size (torch.Size([16])) that is different to the input size (torch.Size([16, 1])). This will likely lead to incorrect results due to broadcasting. Please ensure they have the same size.\n",
            "  return F.mse_loss(input, target, reduction=self.reduction)\n"
          ]
        },
        {
          "output_type": "stream",
          "name": "stdout",
          "text": [
            "Average loss: 0.0080\n",
            "Test loss: 0.009926 \n",
            "\n",
            "Epoch 2\n",
            "-------------------------------\n",
            "Loss: 1.294274  [    0/ 1600 samples]\n",
            "Average loss: 0.0081\n",
            "Test loss: 0.009914 \n",
            "\n",
            "Epoch 3\n",
            "-------------------------------\n",
            "Loss: 0.892733  [    0/ 1600 samples]\n",
            "Average loss: 0.0082\n",
            "Test loss: 0.009907 \n",
            "\n",
            "Epoch 4\n",
            "-------------------------------\n",
            "Loss: 1.150574  [    0/ 1600 samples]\n",
            "Average loss: 0.0082\n",
            "Test loss: 0.009915 \n",
            "\n",
            "Epoch 5\n",
            "-------------------------------\n",
            "Loss: 1.305635  [    0/ 1600 samples]\n",
            "Average loss: 0.0082\n",
            "Test loss: 0.009913 \n",
            "\n",
            "Epoch 6\n",
            "-------------------------------\n",
            "Loss: 0.916706  [    0/ 1600 samples]\n",
            "Average loss: 0.0082\n",
            "Test loss: 0.009907 \n",
            "\n",
            "Epoch 7\n",
            "-------------------------------\n",
            "Loss: 0.879217  [    0/ 1600 samples]\n",
            "Average loss: 0.0081\n",
            "Test loss: 0.009917 \n",
            "\n",
            "Epoch 8\n",
            "-------------------------------\n",
            "Loss: 0.642920  [    0/ 1600 samples]\n",
            "Average loss: 0.0082\n",
            "Test loss: 0.009911 \n",
            "\n",
            "Epoch 9\n",
            "-------------------------------\n",
            "Loss: 1.004225  [    0/ 1600 samples]\n",
            "Average loss: 0.0081\n",
            "Test loss: 0.009910 \n",
            "\n",
            "Epoch 10\n",
            "-------------------------------\n",
            "Loss: 0.906605  [    0/ 1600 samples]\n",
            "Average loss: 0.0082\n",
            "Test loss: 0.009907 \n",
            "\n",
            "Epoch 11\n",
            "-------------------------------\n",
            "Loss: 1.062697  [    0/ 1600 samples]\n",
            "Average loss: 0.0081\n",
            "Test loss: 0.009912 \n",
            "\n",
            "Epoch 12\n",
            "-------------------------------\n",
            "Loss: 1.207868  [    0/ 1600 samples]\n",
            "Average loss: 0.0080\n",
            "Test loss: 0.009906 \n",
            "\n",
            "Epoch 13\n",
            "-------------------------------\n",
            "Loss: 0.957458  [    0/ 1600 samples]\n",
            "Average loss: 0.0080\n",
            "Test loss: 0.009907 \n",
            "\n",
            "Epoch 14\n",
            "-------------------------------\n",
            "Loss: 0.930808  [    0/ 1600 samples]\n",
            "Average loss: 0.0081\n",
            "Test loss: 0.009909 \n",
            "\n",
            "Epoch 15\n",
            "-------------------------------\n",
            "Loss: 0.993686  [    0/ 1600 samples]\n",
            "Average loss: 0.0083\n",
            "Test loss: 0.009906 \n",
            "\n",
            "Epoch 16\n",
            "-------------------------------\n",
            "Loss: 0.881380  [    0/ 1600 samples]\n",
            "Average loss: 0.0082\n",
            "Test loss: 0.009909 \n",
            "\n",
            "Epoch 17\n",
            "-------------------------------\n",
            "Loss: 1.177805  [    0/ 1600 samples]\n",
            "Average loss: 0.0081\n",
            "Test loss: 0.009906 \n",
            "\n",
            "Epoch 18\n",
            "-------------------------------\n",
            "Loss: 1.169284  [    0/ 1600 samples]\n",
            "Average loss: 0.0081\n",
            "Test loss: 0.009909 \n",
            "\n",
            "Epoch 19\n",
            "-------------------------------\n",
            "Loss: 0.891178  [    0/ 1600 samples]\n",
            "Average loss: 0.0082\n",
            "Test loss: 0.009915 \n",
            "\n",
            "Epoch 20\n",
            "-------------------------------\n",
            "Loss: 1.002229  [    0/ 1600 samples]\n",
            "Average loss: 0.0082\n",
            "Test loss: 0.009912 \n",
            "\n",
            "Epoch 21\n",
            "-------------------------------\n",
            "Loss: 1.106675  [    0/ 1600 samples]\n",
            "Average loss: 0.0081\n",
            "Test loss: 0.009906 \n",
            "\n",
            "Epoch 22\n",
            "-------------------------------\n",
            "Loss: 0.983202  [    0/ 1600 samples]\n",
            "Average loss: 0.0081\n",
            "Test loss: 0.009907 \n",
            "\n",
            "Epoch 23\n",
            "-------------------------------\n",
            "Loss: 1.114245  [    0/ 1600 samples]\n",
            "Average loss: 0.0082\n",
            "Test loss: 0.009908 \n",
            "\n",
            "Epoch 24\n",
            "-------------------------------\n",
            "Loss: 1.019258  [    0/ 1600 samples]\n",
            "Average loss: 0.0082\n",
            "Test loss: 0.009909 \n",
            "\n",
            "Epoch 25\n",
            "-------------------------------\n",
            "Loss: 1.267332  [    0/ 1600 samples]\n",
            "Average loss: 0.0081\n",
            "Test loss: 0.009910 \n",
            "\n",
            "Epoch 26\n",
            "-------------------------------\n",
            "Loss: 1.160953  [    0/ 1600 samples]\n",
            "Average loss: 0.0081\n",
            "Test loss: 0.009906 \n",
            "\n",
            "Epoch 27\n",
            "-------------------------------\n",
            "Loss: 1.109612  [    0/ 1600 samples]\n",
            "Average loss: 0.0081\n",
            "Test loss: 0.009912 \n",
            "\n",
            "Epoch 28\n",
            "-------------------------------\n",
            "Loss: 1.149783  [    0/ 1600 samples]\n",
            "Average loss: 0.0083\n",
            "Test loss: 0.009906 \n",
            "\n",
            "Epoch 29\n",
            "-------------------------------\n",
            "Loss: 1.094409  [    0/ 1600 samples]\n",
            "Average loss: 0.0082\n",
            "Test loss: 0.009928 \n",
            "\n",
            "Epoch 30\n",
            "-------------------------------\n",
            "Loss: 1.040517  [    0/ 1600 samples]\n",
            "Average loss: 0.0081\n",
            "Test loss: 0.009906 \n",
            "\n",
            "Done!\n"
          ]
        }
      ]
    },
    {
      "cell_type": "code",
      "source": [
        "epochs = np.arange(1, len(train_history) + 1)\n",
        "print(type(test_history))\n",
        "plt.plot(epochs, train_history, label = 'train loss')\n",
        "plt.plot(epochs, test_history, label = 'test loss')\n",
        "plt.xlabel('Epoch')\n",
        "plt.ylabel('Loss')\n",
        "plt.legend()\n",
        "plt.show()"
      ],
      "metadata": {
        "colab": {
          "base_uri": "https://localhost:8080/",
          "height": 469
        },
        "id": "FdirZbp4kSIM",
        "outputId": "367df704-c5a0-4692-a2a1-3e5ccd01a654"
      },
      "execution_count": 261,
      "outputs": [
        {
          "output_type": "stream",
          "name": "stdout",
          "text": [
            "<class 'list'>\n"
          ]
        },
        {
          "output_type": "display_data",
          "data": {
            "text/plain": [
              "<Figure size 640x480 with 1 Axes>"
            ],
            "image/png": "[encoded data removed]"
          },
          "metadata": {}
        }
      ]
    },
    {
      "cell_type": "code",
      "source": [
        "\n",
        "\n",
        "test_features, test_labels = next(iter(test_dataloader))\n",
        "test_outputs = model(test_features)\n",
        "\n",
        "\n"
      ],
      "metadata": {
        "id": "hL_xTBEbkT45"
      },
      "execution_count": 262,
      "outputs": []
    },
    {
      "cell_type": "code",
      "source": [
        "plt.scatter(test_labels[:], test_outputs[:].detach().numpy(), label = 'Mtot')\n",
        "#plt.scatter(test_labels[:,1], test_outputs[:,1].detach().numpy(), label = 'amplitude')\n",
        "plt.xlabel('True value of parameter (standerdized)')\n",
        "plt.ylabel('Predicted value of parameter (standerdized)')\n",
        "plt.legend()\n",
        "plt.show()"
      ],
      "metadata": {
        "colab": {
          "base_uri": "https://localhost:8080/",
          "height": 449
        },
        "id": "xDNWWtU2kVrh",
        "outputId": "2baeb3aa-cd35-44f7-ef85-7372c2bfea1a"
      },
      "execution_count": 263,
      "outputs": [
        {
          "output_type": "display_data",
          "data": {
            "text/plain": [
              "<Figure size 640x480 with 1 Axes>"
            ],
            "image/png": "[encoded data removed]"
          },
          "metadata": {}
        }
      ]
    }
  ]
}